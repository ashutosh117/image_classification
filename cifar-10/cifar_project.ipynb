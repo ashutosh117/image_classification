{
 "cells": [
  {
   "cell_type": "code",
   "execution_count": 1,
   "metadata": {},
   "outputs": [],
   "source": [
    "#CIFAR 10 dataset Image recognition\n",
    "from __future__ import division,print_function #python 3 compatibility\n",
    "import numpy as np\n",
    "import matplotlib.pyplot as plt\n",
    "import pandas as pd\n",
    "from six.moves import cPickle as pickle\n",
    "import os\n",
    "\n",
    "%matplotlib inline"
   ]
  },
  {
   "cell_type": "code",
   "execution_count": 2,
   "metadata": {},
   "outputs": [],
   "source": [
    "#loading the data\n",
    "data_files = ['batches.meta','data_batch_1','data_batch_2','data_batch_3','data_batch_4','data_batch_5',\n",
    "             'test_batch']\n",
    "\n",
    "DATA_DIR = 'cifar-10-batches-py/' "
   ]
  },
  {
   "cell_type": "code",
   "execution_count": 3,
   "metadata": {},
   "outputs": [],
   "source": [
    "all_data = []\n",
    "for file in data_files:\n",
    "    f = open(DATA_DIR+file,'r')\n",
    "    all_data.append(pickle.load(f))"
   ]
  },
  {
   "cell_type": "code",
   "execution_count": 4,
   "metadata": {},
   "outputs": [],
   "source": [
    "label_names = all_data[0]['label_names']"
   ]
  },
  {
   "cell_type": "code",
   "execution_count": 5,
   "metadata": {},
   "outputs": [],
   "source": [
    "data_1,labels_1 = all_data[1]['data'],np.array(all_data[1]['labels'])\n",
    "# data_2,labels_2 = all_data[2]['data'],np.array(all_data[2]['labels'])\n",
    "# data_3,labels_3 = all_data[3]['data'],np.array(all_data[3]['labels'])\n",
    "# data_4,labels_4 = all_data[4]['data'],np.array(all_data[4]['labels'])\n",
    "# data_5,labels_5 = all_data[5]['data'],np.array(all_data[5]['labels'])\n",
    "# test_data,test_labels = all_data[6]['data'],np.array(all_data[6]['labels'])\n",
    "\n",
    "# print('DATA 1 : ',data_1.shape,labels_1.shape)\n",
    "# print('DATA 2 : ',data_2.shape,labels_2.shape)\n",
    "# print('DATA 3 : ',data_3.shape,labels_3.shape)\n",
    "# print('DATA 4 : ',data_4.shape,labels_4.shape)\n",
    "# print('DATA 5 : ',data_5.shape,labels_5.shape)\n",
    "# print('Test data : ',test_data.shape,test_labels.shape)"
   ]
  },
  {
   "cell_type": "code",
   "execution_count": 6,
   "metadata": {},
   "outputs": [
    {
     "data": {
      "text/plain": [
       "<matplotlib.image.AxesImage at 0x7fc2a59fce10>"
      ]
     },
     "execution_count": 6,
     "metadata": {},
     "output_type": "execute_result"
    },
    {
     "data": {
      "image/png": "[encoded data removed]",
      "text/plain": [
       "<matplotlib.figure.Figure at 0x7fc2a5ff23d0>"
      ]
     },
     "metadata": {},
     "output_type": "display_data"
    }
   ],
   "source": [
    "#display images\n",
    "plt.imshow(data_1[0].reshape(3,32,32).transpose(1,2,0))"
   ]
  },
  {
   "cell_type": "code",
   "execution_count": 7,
   "metadata": {},
   "outputs": [
    {
     "data": {
      "text/plain": [
       "<matplotlib.image.AxesImage at 0x7fc2a593b9d0>"
      ]
     },
     "execution_count": 7,
     "metadata": {},
     "output_type": "execute_result"
    },
    {
     "data": {
      "image/png": "[encoded data removed]",
      "text/plain": [
       "<matplotlib.figure.Figure at 0x7fc2a59d0990>"
      ]
     },
     "metadata": {},
     "output_type": "display_data"
    }
   ],
   "source": [
    "plt.imshow(data_1[1].reshape(3,32,32).transpose(1,2,0))"
   ]
  },
  {
   "cell_type": "code",
   "execution_count": 8,
   "metadata": {},
   "outputs": [],
   "source": [
    "import tensorflow as tf"
   ]
  },
  {
   "cell_type": "code",
   "execution_count": 9,
   "metadata": {},
   "outputs": [],
   "source": [
    "##CNN \n",
    "#helper functions\n",
    "def init_weights(shape): #shape is of the form [filter height,filter width,no input channels,no output channel]\n",
    "    w_init = tf.truncated_normal(shape=shape,stddev=0.1,dtype=tf.float32)\n",
    "    b_init = tf.zeros(shape=shape[3],dtype=tf.float32)\n",
    "    return tf.Variable(w_init),tf.Variable(b_init)\n",
    "\n",
    "def conv2d(x,W): \n",
    "    #x --> input \n",
    "    #W --> filter \n",
    "    out = tf.nn.conv2d(x,W,strides=[1,1,1,1],padding='SAME')\n",
    "    return out\n",
    "\n",
    "def conv_layer(x,shape):\n",
    "    W,b = init_weights(shape)\n",
    "    output = tf.nn.relu(conv2d(x,W)+b)\n",
    "    return output\n",
    "\n",
    "def pooling_layer(x):\n",
    "    #x --> input\n",
    "    #applies max pooling on the input using 2x2 window and stride of 2\n",
    "    out = tf.nn.max_pool(x,ksize=[1,2,2,1],strides=[1,2,2,1],padding='SAME')\n",
    "    return out"
   ]
  },
  {
   "cell_type": "code",
   "execution_count": 10,
   "metadata": {},
   "outputs": [],
   "source": [
    "#DENSELY CONNECTED LAYER\n",
    "def dense_layer(x,out_units):\n",
    "    in_units = int(x.get_shape()[1])\n",
    "    W = tf.Variable(tf.truncated_normal(shape=[in_units,out_units],stddev=0.1,dtype=tf.float32))\n",
    "    b = tf.Variable(tf.zeros([out_units],dtype=tf.float32))\n",
    "    out = tf.matmul(x,W) + b\n",
    "    return out"
   ]
  },
  {
   "cell_type": "code",
   "execution_count": 11,
   "metadata": {},
   "outputs": [],
   "source": [
    "###tensorflow modelling\n",
    " #create varibles and placeholders\n",
    " #create loss function and optimizer\n",
    " #create session,train the model,print outputs"
   ]
  },
  {
   "cell_type": "code",
   "execution_count": 12,
   "metadata": {},
   "outputs": [],
   "source": [
    "tfX = tf.placeholder(tf.float32,shape=[None,32,32,3])\n",
    "tfY = tf.placeholder(tf.float32,shape=[None,10])"
   ]
  },
  {
   "cell_type": "code",
   "execution_count": 13,
   "metadata": {},
   "outputs": [],
   "source": [
    "#computational graph\n",
    "#convolution layer 1\n",
    "conv_1 = conv_layer(tfX,[4,4,3,32])\n",
    "#max pooling layer 1\n",
    "pool_1 = pooling_layer(conv_1)\n",
    "#convolution layer 2\n",
    "conv_2 = conv_layer(pool_1,[4,4,32,64])\n",
    "#pooling layer 2\n",
    "pool_2 = pooling_layer(conv_2)"
   ]
  },
  {
   "cell_type": "code",
   "execution_count": 14,
   "metadata": {},
   "outputs": [],
   "source": [
    "#flatten the output of pooling layer\n",
    "dense_input = tf.reshape(pool_2,[-1,8*8*64])\n",
    "#densely connected layer with 1024 units\n",
    "dense_1 = tf.nn.relu(dense_layer(dense_input,1024))"
   ]
  },
  {
   "cell_type": "code",
   "execution_count": 15,
   "metadata": {},
   "outputs": [],
   "source": [
    "#add dropout to output of dense_1\n",
    "keep_probs = tf.placeholder(tf.float32)\n",
    "dropout_1 = tf.nn.dropout(dense_1,keep_prob=keep_probs)"
   ]
  },
  {
   "cell_type": "code",
   "execution_count": 16,
   "metadata": {},
   "outputs": [],
   "source": [
    "#  #densely connectd layer with 256 units\n",
    "# dense_2 = tf.nn.relu(dense_layer(dropout_1,1024))"
   ]
  },
  {
   "cell_type": "code",
   "execution_count": 17,
   "metadata": {},
   "outputs": [],
   "source": [
    "# #add dropout to the ouput of dense_2\n",
    "# dropout_2 = tf.nn.dropout(dense_2,keep_prob=keep_probs)"
   ]
  },
  {
   "cell_type": "code",
   "execution_count": 18,
   "metadata": {},
   "outputs": [],
   "source": [
    "#add final output layer with 10 output units\n",
    "y_hat = dense_layer(dropout_1,10)"
   ]
  },
  {
   "cell_type": "code",
   "execution_count": 19,
   "metadata": {},
   "outputs": [],
   "source": [
    "#prediction function\n",
    "predictions = tf.argmax(y_hat,1)\n",
    "\n",
    "#error measure\n",
    "matches = tf.equal(predictions,tf.argmax(tfY,1))\n",
    "accuracy = tf.reduce_mean(tf.cast(matches,tf.float32))"
   ]
  },
  {
   "cell_type": "code",
   "execution_count": 20,
   "metadata": {},
   "outputs": [],
   "source": [
    "#loss and optimizer functions\n",
    "cost = tf.reduce_mean(\n",
    "    tf.nn.softmax_cross_entropy_with_logits(labels=tfY,logits=y_hat)\n",
    ")\n",
    "\n",
    "optimizer = tf.train.AdamOptimizer(0.001)\n",
    "train = optimizer.minimize(cost)"
   ]
  },
  {
   "cell_type": "code",
   "execution_count": 21,
   "metadata": {},
   "outputs": [],
   "source": [
    "#helper functions to input data\n",
    "from sklearn.utils import shuffle\n",
    "def one_hot_converter(x):\n",
    "    x = x.ravel()\n",
    "    n = x.shape[0]\n",
    "    p = len(np.unique(x))\n",
    "    out_vec = np.zeros((n,p))\n",
    "    out_vec[range(n),x] = 1.0\n",
    "    return out_vec\n",
    "\n",
    "def next_batch(batch_size,train_set,n_iter):\n",
    "    X = all_data[train_set]['data'] \n",
    "    Y = one_hot_converter(np.array(all_data[train_set]['labels']))\n",
    "    batch_X = X[(n_iter*batch_size):((n_iter*batch_size)+batch_size),:]\n",
    "    batch_Y = Y[(n_iter*batch_size):((n_iter*batch_size)+batch_size),:]\n",
    "    batch_X = batch_X.reshape(-1,3,32,32).transpose(0,2,3,1)/255.0\n",
    "    return batch_X,batch_Y\n",
    "\n",
    "def test_data():\n",
    "    X = all_data[6]['data']\n",
    "    Y = one_hot_converter(np.array(all_data[6]['labels']))\n",
    "    X = X.reshape(-1,3,32,32).transpose(0,2,3,1)/255.0\n",
    "    X,Y = shuffle(X,Y)\n",
    "    return X[:2000,:],Y[:2000,:]"
   ]
  },
  {
   "cell_type": "code",
   "execution_count": 22,
   "metadata": {},
   "outputs": [],
   "source": [
    "init = tf.global_variables_initializer()"
   ]
  },
  {
   "cell_type": "code",
   "execution_count": 23,
   "metadata": {},
   "outputs": [],
   "source": [
    "batch_size = 100\n",
    "n_epochs = 10\n",
    "prob = 0.5\n",
    "print_period = 10"
   ]
  },
  {
   "cell_type": "code",
   "execution_count": 24,
   "metadata": {},
   "outputs": [
    {
     "name": "stdout",
     "output_type": "stream",
     "text": [
      "Epoch 0,Iter : 0,train loss :8.3175,test acc : 0.1170\n",
      "Epoch 0,Iter : 10,train loss :2.4098,test acc : 0.1515\n",
      "Epoch 0,Iter : 20,train loss :2.2870,test acc : 0.2645\n",
      "Epoch 0,Iter : 30,train loss :2.0965,test acc : 0.2805\n",
      "Epoch 0,Iter : 40,train loss :1.9332,test acc : 0.3565\n",
      "Epoch 0,Iter : 50,train loss :1.9397,test acc : 0.3705\n",
      "Epoch 0,Iter : 60,train loss :1.7269,test acc : 0.4020\n",
      "Epoch 0,Iter : 70,train loss :1.7147,test acc : 0.3765\n",
      "Epoch 0,Iter : 80,train loss :1.7774,test acc : 0.4030\n",
      "Epoch 0,Iter : 90,train loss :1.7706,test acc : 0.4060\n",
      "Epoch 1,Iter : 0,train loss :1.6363,test acc : 0.4190\n",
      "Epoch 1,Iter : 10,train loss :1.6116,test acc : 0.4350\n",
      "Epoch 1,Iter : 20,train loss :1.6513,test acc : 0.4585\n",
      "Epoch 1,Iter : 30,train loss :1.6468,test acc : 0.4625\n",
      "Epoch 1,Iter : 40,train loss :1.5622,test acc : 0.4460\n",
      "Epoch 1,Iter : 50,train loss :1.7673,test acc : 0.4590\n",
      "Epoch 1,Iter : 60,train loss :1.5354,test acc : 0.4775\n",
      "Epoch 1,Iter : 70,train loss :1.4355,test acc : 0.4870\n",
      "Epoch 1,Iter : 80,train loss :1.3855,test acc : 0.4755\n",
      "Epoch 1,Iter : 90,train loss :1.4380,test acc : 0.4900\n",
      "Epoch 2,Iter : 0,train loss :1.5730,test acc : 0.4730\n",
      "Epoch 2,Iter : 10,train loss :1.4626,test acc : 0.4810\n",
      "Epoch 2,Iter : 20,train loss :1.4345,test acc : 0.5175\n",
      "Epoch 2,Iter : 30,train loss :1.3975,test acc : 0.5300\n",
      "Epoch 2,Iter : 40,train loss :1.3132,test acc : 0.5200\n",
      "Epoch 2,Iter : 50,train loss :1.3440,test acc : 0.5195\n",
      "Epoch 2,Iter : 60,train loss :1.1239,test acc : 0.5215\n",
      "Epoch 2,Iter : 70,train loss :1.4916,test acc : 0.5065\n",
      "Epoch 2,Iter : 80,train loss :1.4149,test acc : 0.5015\n",
      "Epoch 2,Iter : 90,train loss :1.3904,test acc : 0.5205\n",
      "Epoch 3,Iter : 0,train loss :1.3454,test acc : 0.5310\n",
      "Epoch 3,Iter : 10,train loss :1.1903,test acc : 0.5385\n",
      "Epoch 3,Iter : 20,train loss :1.5233,test acc : 0.5500\n",
      "Epoch 3,Iter : 30,train loss :1.4756,test acc : 0.5240\n",
      "Epoch 3,Iter : 40,train loss :1.3551,test acc : 0.5420\n",
      "Epoch 3,Iter : 50,train loss :1.3443,test acc : 0.5290\n",
      "Epoch 3,Iter : 60,train loss :1.4138,test acc : 0.5330\n",
      "Epoch 3,Iter : 70,train loss :1.2302,test acc : 0.5615\n",
      "Epoch 3,Iter : 80,train loss :1.4431,test acc : 0.5545\n",
      "Epoch 3,Iter : 90,train loss :1.3413,test acc : 0.5545\n",
      "Epoch 4,Iter : 0,train loss :1.2755,test acc : 0.5470\n",
      "Epoch 4,Iter : 10,train loss :1.3620,test acc : 0.5810\n",
      "Epoch 4,Iter : 20,train loss :1.3920,test acc : 0.5895\n",
      "Epoch 4,Iter : 30,train loss :1.2673,test acc : 0.5585\n",
      "Epoch 4,Iter : 40,train loss :1.2832,test acc : 0.5740\n",
      "Epoch 4,Iter : 50,train loss :0.9478,test acc : 0.5740\n",
      "Epoch 4,Iter : 60,train loss :1.2191,test acc : 0.5640\n",
      "Epoch 4,Iter : 70,train loss :1.2957,test acc : 0.5385\n",
      "Epoch 4,Iter : 80,train loss :1.6309,test acc : 0.5700\n",
      "Epoch 4,Iter : 90,train loss :1.2187,test acc : 0.5920\n",
      "Epoch 5,Iter : 0,train loss :1.2354,test acc : 0.5930\n",
      "Epoch 5,Iter : 10,train loss :1.3087,test acc : 0.6090\n",
      "Epoch 5,Iter : 20,train loss :1.4135,test acc : 0.5940\n",
      "Epoch 5,Iter : 30,train loss :1.2678,test acc : 0.6055\n",
      "Epoch 5,Iter : 40,train loss :1.2819,test acc : 0.5880\n",
      "Epoch 5,Iter : 50,train loss :1.2938,test acc : 0.6125\n",
      "Epoch 5,Iter : 60,train loss :1.2157,test acc : 0.5750\n",
      "Epoch 5,Iter : 70,train loss :1.2022,test acc : 0.5910\n",
      "Epoch 5,Iter : 80,train loss :1.2836,test acc : 0.6055\n",
      "Epoch 5,Iter : 90,train loss :1.1881,test acc : 0.5980\n",
      "Epoch 6,Iter : 0,train loss :1.0130,test acc : 0.6045\n",
      "Epoch 6,Iter : 10,train loss :1.2308,test acc : 0.6075\n",
      "Epoch 6,Iter : 20,train loss :1.1546,test acc : 0.5940\n",
      "Epoch 6,Iter : 30,train loss :1.2555,test acc : 0.6165\n",
      "Epoch 6,Iter : 40,train loss :1.1029,test acc : 0.6040\n",
      "Epoch 6,Iter : 50,train loss :1.1356,test acc : 0.6155\n",
      "Epoch 6,Iter : 60,train loss :1.0453,test acc : 0.6140\n",
      "Epoch 6,Iter : 70,train loss :1.0474,test acc : 0.6145\n",
      "Epoch 6,Iter : 80,train loss :1.0348,test acc : 0.6145\n",
      "Epoch 6,Iter : 90,train loss :1.0357,test acc : 0.6085\n",
      "Epoch 7,Iter : 0,train loss :1.1453,test acc : 0.6125\n",
      "Epoch 7,Iter : 10,train loss :0.9005,test acc : 0.6225\n",
      "Epoch 7,Iter : 20,train loss :1.1895,test acc : 0.6115\n",
      "Epoch 7,Iter : 30,train loss :0.9650,test acc : 0.6095\n",
      "Epoch 7,Iter : 40,train loss :1.0229,test acc : 0.6125\n",
      "Epoch 7,Iter : 50,train loss :0.9435,test acc : 0.6130\n",
      "Epoch 7,Iter : 60,train loss :0.9475,test acc : 0.6105\n",
      "Epoch 7,Iter : 70,train loss :1.2920,test acc : 0.5865\n",
      "Epoch 7,Iter : 80,train loss :1.0678,test acc : 0.6050\n",
      "Epoch 7,Iter : 90,train loss :0.9973,test acc : 0.6140\n",
      "Epoch 8,Iter : 0,train loss :1.1220,test acc : 0.6245\n",
      "Epoch 8,Iter : 10,train loss :0.9696,test acc : 0.6345\n",
      "Epoch 8,Iter : 20,train loss :1.0338,test acc : 0.6445\n",
      "Epoch 8,Iter : 30,train loss :1.3067,test acc : 0.6175\n",
      "Epoch 8,Iter : 40,train loss :1.1073,test acc : 0.6105\n",
      "Epoch 8,Iter : 50,train loss :1.0401,test acc : 0.6040\n",
      "Epoch 8,Iter : 60,train loss :1.1507,test acc : 0.6275\n",
      "Epoch 8,Iter : 70,train loss :1.0155,test acc : 0.6310\n",
      "Epoch 8,Iter : 80,train loss :1.1179,test acc : 0.6165\n",
      "Epoch 8,Iter : 90,train loss :1.1261,test acc : 0.6465\n",
      "Epoch 9,Iter : 0,train loss :0.9379,test acc : 0.6345\n",
      "Epoch 9,Iter : 10,train loss :1.0338,test acc : 0.6510\n",
      "Epoch 9,Iter : 20,train loss :1.0944,test acc : 0.6430\n",
      "Epoch 9,Iter : 30,train loss :1.1261,test acc : 0.6295\n",
      "Epoch 9,Iter : 40,train loss :1.0230,test acc : 0.6430\n",
      "Epoch 9,Iter : 50,train loss :0.7259,test acc : 0.6360\n",
      "Epoch 9,Iter : 60,train loss :0.8369,test acc : 0.6655\n",
      "Epoch 9,Iter : 70,train loss :1.1977,test acc : 0.6365\n",
      "Epoch 9,Iter : 80,train loss :1.4606,test acc : 0.6110\n",
      "Epoch 9,Iter : 90,train loss :1.0448,test acc : 0.6210\n"
     ]
    }
   ],
   "source": [
    "losses = []\n",
    "test_accs = []\n",
    "\n",
    "n_iters = int(data_1.shape[0]/batch_size)\n",
    "with tf.Session() as sess:\n",
    "    sess.run(init)\n",
    "    for epoch in range(n_epochs):\n",
    "        for n_iter in range(n_iters):\n",
    "            train_set = (epoch%5) + 1\n",
    "            batch_X,batch_Y = next_batch(batch_size,train_set,n_iter)\n",
    "            \n",
    "            _,l = sess.run([train,cost],feed_dict={tfX:batch_X,tfY:batch_Y,keep_probs:prob})\n",
    "            losses.append(l)\n",
    "            \n",
    "            if n_iter%print_period == 0:\n",
    "                test_d,test_l = test_data()\n",
    "                test_acc = sess.run(accuracy,feed_dict={tfX:test_d,tfY:test_l,keep_probs:1.0})\n",
    "                test_accs.append(test_acc)\n",
    "                print('Epoch %d,Iter : %d,train loss :%.4f,test acc : %.4f' %(epoch,n_iter,l,test_acc))"
   ]
  },
  {
   "cell_type": "code",
   "execution_count": 25,
   "metadata": {},
   "outputs": [],
   "source": [
    "# with tf.Session() as sess:\n",
    "#     sess.run(init)\n",
    "#     print('Variables initialized')\n",
    "#     for i in range(10):\n",
    "#         batch_X,batch_Y = next_batch(batch_size,1,i)\n",
    "    \n",
    "#         _,l = sess.run([train,cost],feed_dict={tfX:batch_X,tfY:batch_Y,keep_probs:prob})\n",
    "#         print('%d,loss : %.4f' %(i,l))"
   ]
  },
  {
   "cell_type": "code",
   "execution_count": 26,
   "metadata": {},
   "outputs": [
    {
     "data": {
      "text/plain": [
       "[<matplotlib.lines.Line2D at 0x7fc28ce56250>]"
      ]
     },
     "execution_count": 26,
     "metadata": {},
     "output_type": "execute_result"
    },
    {
     "data": {
      "image/png": "[encoded data removed]",
      "text/plain": [
       "<matplotlib.figure.Figure at 0x7fc28d5e1510>"
      ]
     },
     "metadata": {},
     "output_type": "display_data"
    }
   ],
   "source": [
    "plt.plot(losses)"
   ]
  },
  {
   "cell_type": "code",
   "execution_count": 27,
   "metadata": {},
   "outputs": [
    {
     "data": {
      "text/plain": [
       "[<matplotlib.lines.Line2D at 0x7fc288d647d0>]"
      ]
     },
     "execution_count": 27,
     "metadata": {},
     "output_type": "execute_result"
    },
    {
     "data": {
      "image/png": "[encoded data removed]",
      "text/plain": [
       "<matplotlib.figure.Figure at 0x7fc28ce601d0>"
      ]
     },
     "metadata": {},
     "output_type": "display_data"
    }
   ],
   "source": [
    "plt.plot(test_accs)"
   ]
  },
  {
   "cell_type": "code",
   "execution_count": null,
   "metadata": {},
   "outputs": [],
   "source": []
  }
 ],
 "metadata": {
  "kernelspec": {
   "display_name": "Python 2",
   "language": "python",
   "name": "python2"
  },
  "language_info": {
   "codemirror_mode": {
    "name": "ipython",
    "version": 2
   },
   "file_extension": ".py",
   "mimetype": "text/x-python",
   "name": "python",
   "nbconvert_exporter": "python",
   "pygments_lexer": "ipython2",
   "version": "2.7.14"
  }
 },
 "nbformat": 4,
 "nbformat_minor": 2
}
